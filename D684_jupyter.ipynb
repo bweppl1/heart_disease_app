{
 "cells": [
  {
   "cell_type": "code",
   "execution_count": 28,
   "id": "696d400a",
   "metadata": {},
   "outputs": [
    {
     "name": "stdout",
     "output_type": "stream",
     "text": [
      "<class 'pandas.core.frame.DataFrame'>\n",
      "RangeIndex: 270 entries, 0 to 269\n",
      "Data columns (total 14 columns):\n",
      " #   Column                   Non-Null Count  Dtype  \n",
      "---  ------                   --------------  -----  \n",
      " 0   Age                      270 non-null    int64  \n",
      " 1   Sex                      270 non-null    int64  \n",
      " 2   Chest pain type          270 non-null    int64  \n",
      " 3   BP                       270 non-null    int64  \n",
      " 4   Cholesterol              270 non-null    int64  \n",
      " 5   FBS over 120             270 non-null    int64  \n",
      " 6   EKG results              270 non-null    int64  \n",
      " 7   Max HR                   270 non-null    int64  \n",
      " 8   Exercise angina          270 non-null    int64  \n",
      " 9   ST depression            270 non-null    float64\n",
      " 10  Slope of ST              270 non-null    int64  \n",
      " 11  Number of vessels fluro  270 non-null    int64  \n",
      " 12  Thallium                 270 non-null    int64  \n",
      " 13  Heart Disease            270 non-null    object \n",
      "dtypes: float64(1), int64(12), object(1)\n",
      "memory usage: 29.7+ KB\n"
     ]
    }
   ],
   "source": [
    "import pandas as pd\n",
    "import numpy as np\n",
    "import seaborn as sns\n",
    "from sklearn.ensemble import RandomForestClassifier\n",
    "from sklearn.model_selection import train_test_split, RandomizedSearchCV\n",
    "from sklearn.metrics import precision_score, recall_score, roc_auc_score, f1_score\n",
    "\n",
    "#importing csv\n",
    "df = pd.read_csv('data/Heart_Disease_Prediction.csv')\n",
    "\n",
    "df.info()"
   ]
  },
  {
   "cell_type": "code",
   "execution_count": 29,
   "id": "79d38861",
   "metadata": {},
   "outputs": [
    {
     "data": {
      "text/plain": [
       "Heart Disease\n",
       "0    150\n",
       "1    120\n",
       "Name: count, dtype: int64"
      ]
     },
     "execution_count": 29,
     "metadata": {},
     "output_type": "execute_result"
    }
   ],
   "source": [
    "#B1 Data Preprocessing\n",
    "#Convert categorical variables, data cleaning, handle missing values -> Upload preprocessed dataset to GitLab\n",
    "#Converting Absence/Presnce to Binary Presence Flag\n",
    "df['Heart Disease'] = (df['Heart Disease'] == 'Presence').astype(int)\n",
    "\n",
    "df['Heart Disease'].value_counts() # 0 = Absence of HD; 1 = Presene of HD"
   ]
  },
  {
   "cell_type": "code",
   "execution_count": 30,
   "id": "ad075d41",
   "metadata": {},
   "outputs": [
    {
     "data": {
      "text/plain": [
       "Age                        0\n",
       "Sex                        0\n",
       "Chest pain type            0\n",
       "BP                         0\n",
       "Cholesterol                0\n",
       "FBS over 120               0\n",
       "EKG results                0\n",
       "Max HR                     0\n",
       "Exercise angina            0\n",
       "ST depression              0\n",
       "Slope of ST                0\n",
       "Number of vessels fluro    0\n",
       "Thallium                   0\n",
       "Heart Disease              0\n",
       "dtype: int64"
      ]
     },
     "execution_count": 30,
     "metadata": {},
     "output_type": "execute_result"
    }
   ],
   "source": [
    "#Check for null values\n",
    "df.isnull().sum()"
   ]
  },
  {
   "cell_type": "code",
   "execution_count": null,
   "id": "7bcb968b",
   "metadata": {},
   "outputs": [
    {
     "name": "stdout",
     "output_type": "stream",
     "text": [
      "Base Model Evaluation Metrics\n",
      "Precision: 0.77778\n",
      "Recall: 0.66667\n",
      "AUC ROC: 0.77273\n",
      "F1 Score: 0.71795\n"
     ]
    }
   ],
   "source": [
    "#Set 'Heart Disease' as the target column\n",
    "#B2 Build the algorithm\n",
    "X = df.drop(columns=['Heart Disease'])\n",
    "y = df['Heart Disease']\n",
    "\n",
    "#Split data to training/test\n",
    "X_train, X_test, y_train, y_test = train_test_split(X, y, test_size=0.2, random_state=42)\n",
    "\n",
    "#B3 Assigning and train model\n",
    "rfc_model = RandomForestClassifier(random_state=42)\n",
    "rfc_model.fit(X_train, y_train)\n",
    "y_pred = rfc_model.predict(X_test)\n",
    "\n",
    "#B4 Evaluate model accuracy\n",
    "#Evaluation metrics - f1score, precision, recall, auc-roc\n",
    "rfc_model_f1_score = f1_score(y_test, y_pred)\n",
    "rfc_precision = precision_score(y_test, y_pred)\n",
    "rfc_recall = recall_score(y_test, y_pred)\n",
    "rfc_auc_roc = roc_auc_score(y_test, y_pred)\n",
    "\n",
    "#Display Base Metrics\n",
    "print(\"Base Model Evaluation Metrics\")\n",
    "print(\"Precision: {:.5f}\".format(rfc_precision))\n",
    "print(\"Recall: {:.5f}\".format(rfc_recall))\n",
    "print(\"AUC ROC: {:.5f}\".format(rfc_auc_roc))\n",
    "print(\"F1 Score: {:.5f}\".format(rfc_model_f1_score))"
   ]
  },
  {
   "cell_type": "code",
   "execution_count": null,
   "id": "2be1711a",
   "metadata": {},
   "outputs": [],
   "source": []
  }
 ],
 "metadata": {
  "kernelspec": {
   "display_name": "Python 3",
   "language": "python",
   "name": "python3"
  },
  "language_info": {
   "codemirror_mode": {
    "name": "ipython",
    "version": 3
   },
   "file_extension": ".py",
   "mimetype": "text/x-python",
   "name": "python",
   "nbconvert_exporter": "python",
   "pygments_lexer": "ipython3",
   "version": "3.10.12"
  }
 },
 "nbformat": 4,
 "nbformat_minor": 5
}
